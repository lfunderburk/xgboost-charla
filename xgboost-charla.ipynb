{
 "cells": [
  {
   "cell_type": "markdown",
   "id": "db5c340e",
   "metadata": {
    "slideshow": {
     "slide_type": "slide"
    }
   },
   "source": [
    "<h1 align='center'>Uso de XGBoost para problemas de clasificación<h1>\n",
    "    \n",
    "<h2 align='center'>Laura G Funderburk</h2>\n",
    "    \n",
    "    "
   ]
  },
  {
   "cell_type": "markdown",
   "id": "f31db61f",
   "metadata": {
    "slideshow": {
     "slide_type": "slide"
    }
   },
   "source": [
    "<h2 align='center'>Sobre mí</h2>\n",
    "\n",
    "🤓 Completé la Licenciatura en Matemáticas en Simon Fraser University, Canadá\n",
    "\n",
    "📈 🤗 Científica de datos, Developer Advocate @Ploomber\n",
    "\n",
    "🇲🇽 🇬🇧 🇩🇪 🇨🇦 Nací en México, he vivido en Inglaterra, Alemania y ahora en Canadá\n",
    "\n",
    "🥋 Practico Brazilian JiuJitsu \n"
   ]
  },
  {
   "cell_type": "markdown",
   "id": "4150d420",
   "metadata": {
    "slideshow": {
     "slide_type": "slide"
    }
   },
   "source": [
    "<h2 align='center'>Conecta conmigo</h2>\n",
    "\n",
    "🖥️ Sitio web: https://lfunderburk.github.io/\n",
    "\n",
    "🐙 GitHub: https://github.com/lfunderburk\n",
    "\n",
    "🐦 Twitter: @lgfunderburk\n",
    "\n",
    "🦣 Mastodon: https://fosstodon.org/@lfunderburk"
   ]
  },
  {
   "cell_type": "markdown",
   "id": "42f31a56",
   "metadata": {
    "slideshow": {
     "slide_type": "slide"
    }
   },
   "source": [
    "<h2 align='center'>Introducción</h2>\n",
    "\n",
    "1. ¿Qué es la clasificación?\n",
    "2. Diferencia entre clasificación y regresión\n",
    "3. Introducción a XGBoost"
   ]
  },
  {
   "cell_type": "markdown",
   "id": "c7d560f2",
   "metadata": {
    "slideshow": {
     "slide_type": "slide"
    }
   },
   "source": [
    "<h2 align='center'>Qué es la clasificación</h2>\n",
    "\n",
    "\n"
   ]
  },
  {
   "cell_type": "markdown",
   "id": "1b60cd02",
   "metadata": {
    "slideshow": {
     "slide_type": "slide"
    }
   },
   "source": [
    "<h2 align='center'>Clasificación vs Regresión</h2>\n",
    "\n",
    "1. Clasificación: predecir una etiqueta categórica (ej. si es spam o no es spam)\n",
    "2. Regresión: predecir un valor numérico continuo (ej. el precio de bienes raices)"
   ]
  },
  {
   "cell_type": "markdown",
   "id": "096277b2",
   "metadata": {
    "slideshow": {
     "slide_type": "slide"
    }
   },
   "source": [
    "<h2 align='center'>XGBoost</h2>\n",
    "\n",
    "\n",
    "- Basado en algoritmo de Gradient Boosting\n",
    "- Escalable y eficiente\n",
    "- Ampliamente utilizado en competencias de aprendizaje automático\n"
   ]
  },
  {
   "cell_type": "markdown",
   "id": "93527f50",
   "metadata": {
    "slideshow": {
     "slide_type": "slide"
    }
   },
   "source": [
    "<h2 align='center'>Instalación de XGBoost</h2>\n",
    "\n",
    "\n",
    "```\n",
    "pip install xgboost\n",
    "```"
   ]
  },
  {
   "cell_type": "markdown",
   "id": "e874f057",
   "metadata": {
    "slideshow": {
     "slide_type": "slide"
    }
   },
   "source": [
    "<h2 align='center'>Importando bibliotecas</h2>\n"
   ]
  },
  {
   "cell_type": "code",
   "execution_count": null,
   "id": "8e70374f",
   "metadata": {
    "slideshow": {
     "slide_type": "fragment"
    }
   },
   "outputs": [],
   "source": [
    "import matplotlib.pyplot as plt\n",
    "import xgboost as xgb\n",
    "from sklearn.datasets import load_iris\n",
    "from sklearn.model_selection import train_test_split\n",
    "from sklearn.metrics import confusion_matrix, \\\n",
    "                            classification_report, \\\n",
    "                            accuracy_score,\\\n",
    "                            balanced_accuracy_score,\\\n",
    "                            ConfusionMatrixDisplay\n",
    "\n",
    "import pandas as pd"
   ]
  },
  {
   "cell_type": "markdown",
   "id": "58e6c701",
   "metadata": {
    "slideshow": {
     "slide_type": "slide"
    }
   },
   "source": [
    "<h2 align='center'>Cargando y dividiendo el conjunto de datos</h2>\n",
    "\n",
    "\n",
    "- **Conjunto de datos \"Calidad del Vino\"**: propiedades fisicoquímicas de vinos, como acidez, contenido de azúcar y alcohol. \n",
    "\n",
    "- **Objetivo**: predecir la calidad del vino usando estas características. \n",
    "\n",
    "- **Problema de clasificación binaria (buena o mala calidad)**.\n",
    "\n",
    "Este conjunto de datos está disponible en el Repositorio de Aprendizaje Automático de UCI.\n",
    "\n",
    "https://archive.ics.uci.edu/ml/datasets/wine+quality\n"
   ]
  },
  {
   "cell_type": "code",
   "execution_count": null,
   "id": "54ae3903",
   "metadata": {
    "slideshow": {
     "slide_type": "slide"
    }
   },
   "outputs": [],
   "source": [
    "# Carga el conjunto de datos\n",
    "url = \"https://archive.ics.uci.edu/ml/machine-learning-databases/wine-quality/winequality-red.csv\"\n",
    "df = pd.read_csv(url, sep=';')\n",
    "\n",
    "# Preprocesamiento: convierta la columna de calidad en un problema de clasificación binaria (bueno o malo)\n",
    "threshold = 6\n",
    "df['quality'] = (df['quality'] >= threshold).astype(int)\n",
    "\n",
    "# Dividir el conjunto de datos en características (X) y objetivo (y)\n",
    "X = df.drop('quality', axis=1)\n",
    "y = df['quality']\n",
    "\n",
    "X.head()"
   ]
  },
  {
   "cell_type": "code",
   "execution_count": null,
   "id": "67b5e261",
   "metadata": {
    "slideshow": {
     "slide_type": "subslide"
    }
   },
   "outputs": [],
   "source": [
    "y.head()"
   ]
  },
  {
   "cell_type": "code",
   "execution_count": null,
   "id": "44def2b1",
   "metadata": {
    "slideshow": {
     "slide_type": "subslide"
    }
   },
   "outputs": [],
   "source": [
    "X_train, X_test, y_train, y_test = train_test_split(X, y, \n",
    "                                                    test_size=0.2, \n",
    "                                                    random_state=42)"
   ]
  },
  {
   "cell_type": "markdown",
   "id": "853397e5",
   "metadata": {
    "slideshow": {
     "slide_type": "slide"
    }
   },
   "source": [
    "<h2 align='center'>Entrenamiento del modelo</h2>\n"
   ]
  },
  {
   "cell_type": "code",
   "execution_count": null,
   "id": "e88c3187",
   "metadata": {
    "slideshow": {
     "slide_type": "fragment"
    }
   },
   "outputs": [],
   "source": [
    "# Inicializa el modelo\n",
    "modelo_xgb = xgb.XGBClassifier()\n",
    "\n",
    "# Ajustar el modelo\n",
    "modelo_xgb.fit(X_train, y_train)\n",
    "\n",
    "# Usa el modelo para predecir\n",
    "y_pred = modelo_xgb.predict(X_test)"
   ]
  },
  {
   "cell_type": "markdown",
   "id": "07cc2c96",
   "metadata": {
    "slideshow": {
     "slide_type": "slide"
    }
   },
   "source": [
    "<h2 align='center'>Evaluación del modelo</h2>\n"
   ]
  },
  {
   "cell_type": "code",
   "execution_count": null,
   "id": "1481171a",
   "metadata": {
    "slideshow": {
     "slide_type": "subslide"
    }
   },
   "outputs": [],
   "source": [
    "def evalua_modelo(modelo):\n",
    "    score_train = modelo.score(X_train, y_train)\n",
    "    score_test = modelo.score(X_test, y_test)\n",
    "    balanced_accuracy = balanced_accuracy_score(y_test, y_pred)\n",
    "    accuracy = accuracy_score(y_test, y_pred)\n",
    "    report = classification_report(y_test, y_pred)\n",
    "    print('score for training set', score_train, 'score for testing set', score_test)\n",
    "    print(\"Balanced accuracy score\", balanced_accuracy,\"Accuracy\",accuracy)\n",
    "    fig, ax = plt.subplots(figsize=(10, 5))\n",
    "    ConfusionMatrixDisplay.from_predictions(y_test, y_pred, ax=ax);\n",
    "    \n",
    "evalua_modelo(modelo_xgb)"
   ]
  },
  {
   "cell_type": "markdown",
   "id": "2c89f667",
   "metadata": {
    "slideshow": {
     "slide_type": "slide"
    }
   },
   "source": [
    "<h2 align='center'>Hiperparámetros</h2>\n",
    "\n",
    "- `learning_rate`\n",
    "- `max_depth`\n",
    "- `n_estimators`\n",
    "- `subsample`\n",
    "- `colsample_bytree`"
   ]
  },
  {
   "cell_type": "code",
   "execution_count": null,
   "id": "2403a59d",
   "metadata": {
    "slideshow": {
     "slide_type": "subslide"
    }
   },
   "outputs": [],
   "source": [
    "# Definiendo hiperparámetros personalizados\n",
    "hiperparametros = {\n",
    "    'learning_rate': 0.1,\n",
    "    'max_depth': 3,\n",
    "    'n_estimators': 100,\n",
    "    'subsample': 0.8,\n",
    "    'colsample_bytree': 0.8\n",
    "}\n",
    "\n",
    "# Entrenamiento del modelo con hiperparámetros personalizados\n",
    "modelo_xgb_h = xgb.XGBClassifier(**hiperparametros)\n",
    "modelo_xgb_h.fit(X_train, y_train)"
   ]
  },
  {
   "cell_type": "code",
   "execution_count": null,
   "id": "7e66f0eb",
   "metadata": {
    "slideshow": {
     "slide_type": "subslide"
    }
   },
   "outputs": [],
   "source": [
    "# Observar resultados\n",
    "evalua_modelo(modelo_xgb_h)"
   ]
  },
  {
   "cell_type": "markdown",
   "id": "44980dc7",
   "metadata": {
    "slideshow": {
     "slide_type": "slide"
    }
   },
   "source": [
    "<h2 align='center'>Ajuste de hiperparámetros</h2>\n",
    "\n",
    "- Búsqueda de cuadrícula\n",
    "- Búsqueda aleatoria\n",
    "- Validación cruzada"
   ]
  },
  {
   "cell_type": "code",
   "execution_count": null,
   "id": "f8b92d48",
   "metadata": {
    "slideshow": {
     "slide_type": "subslide"
    }
   },
   "outputs": [],
   "source": [
    "# Hyperparameters ranges\n",
    "hyperparameters_ranges = {\n",
    "    'learning_rate': [0.01, 0.1, 0.2],  \n",
    "    'max_depth': list(range(3, 15)),  \n",
    "    'n_estimators': [50, 100, 200, 500, 1000],  \n",
    "    'subsample': [0.5, 0.6, 0.7, 0.8, 0.9, 1.0],\n",
    "    'colsample_bytree': [0.5, 0.6, 0.7, 0.8, 0.9, 1.0]\n",
    "}"
   ]
  },
  {
   "cell_type": "code",
   "execution_count": null,
   "id": "606b740e",
   "metadata": {
    "slideshow": {
     "slide_type": "subslide"
    }
   },
   "outputs": [],
   "source": [
    "from sklearn.model_selection import RandomizedSearchCV\n",
    "\n",
    "# Create XGBoost classifier\n",
    "modelo_xgb = xgb.XGBClassifier()\n",
    "\n",
    "# Perform randomized search\n",
    "random_search = RandomizedSearchCV(modelo_xgb, \n",
    "                                   param_distributions=hyperparameters_ranges, \n",
    "                                   n_iter=25, \n",
    "                                   cv=5, \n",
    "                                   random_state=42)\n",
    "random_search.fit(X_train, y_train)\n",
    "\n",
    "# Get the best hyperparameters\n",
    "best_hyperparameters = random_search.best_params_\n",
    "print(f\"Best hyperparameters: {best_hyperparameters}\")"
   ]
  },
  {
   "cell_type": "code",
   "execution_count": null,
   "id": "a312e389",
   "metadata": {
    "slideshow": {
     "slide_type": "subslide"
    }
   },
   "outputs": [],
   "source": [
    "# Train the model with the best hyperparameters\n",
    "modelo_xgb_h_b = xgb.XGBClassifier(**best_hyperparameters)\n",
    "modelo_xgb_h_b.fit(X_train, y_train)\n",
    "\n",
    "# Evaluate the model\n",
    "y_pred = modelo_xgb_h_b.predict(X_test)\n",
    "\n",
    "evalua_modelo(modelo_xgb_h_b)"
   ]
  },
  {
   "cell_type": "markdown",
   "id": "c250c123",
   "metadata": {
    "slideshow": {
     "slide_type": "slide"
    }
   },
   "source": [
    "<h2 align='center'>Importancia de las características</h2>\n",
    "\n",
    "- Ganancia\n",
    "- Frecuencia\n",
    "- Cobertura"
   ]
  },
  {
   "cell_type": "markdown",
   "id": "9ec5de55",
   "metadata": {
    "slideshow": {
     "slide_type": "slide"
    }
   },
   "source": [
    "<h2 align='center'>Visualización de la importancia de las características</h2>"
   ]
  },
  {
   "cell_type": "code",
   "execution_count": null,
   "id": "18120a6f",
   "metadata": {
    "slideshow": {
     "slide_type": "fragment"
    }
   },
   "outputs": [],
   "source": [
    "xgb.plot_importance(modelo_xgb_h_b)\n",
    "plt.show()"
   ]
  },
  {
   "cell_type": "markdown",
   "id": "cb59e8b1",
   "metadata": {
    "slideshow": {
     "slide_type": "slide"
    }
   },
   "source": [
    "<h2 align='center'>Ventajas de XGBoost</h2>\n",
    "\n",
    "- Rendimiento superior\n",
    "- Manejo de valores faltantes\n",
    "- Paralelización\n",
    "- Regularización\n",
    "- Flexibilidad"
   ]
  },
  {
   "cell_type": "markdown",
   "id": "f06287ab",
   "metadata": {
    "slideshow": {
     "slide_type": "slide"
    }
   },
   "source": [
    "<h2 align='center'>Conclusión</h2>\n",
    "\n",
    "- XGBoost: eficiente y potente para clasificación\n",
    "- Ajuste de hiperparámetros y selección de características\n",
    "- Ventajas clave de XGBoost"
   ]
  },
  {
   "cell_type": "markdown",
   "id": "c7d71842",
   "metadata": {
    "slideshow": {
     "slide_type": "slide"
    }
   },
   "source": [
    "<h2 align='center'>Conecta conmigo</h2>\n",
    "\n",
    "🖥️ Sitio web: https://lfunderburk.github.io/\n",
    "\n",
    "🐙 GitHub: https://github.com/lfunderburk\n",
    "\n",
    "🐦 Twitter: @lgfunderburk\n",
    "\n",
    "🦣 Mastodon: https://fosstodon.org/@lfunderburk"
   ]
  }
 ],
 "metadata": {
  "celltoolbar": "Slideshow",
  "kernelspec": {
   "display_name": "xgb-charla",
   "language": "python",
   "name": "xgboost-env"
  },
  "language_info": {
   "codemirror_mode": {
    "name": "ipython",
    "version": 3
   },
   "file_extension": ".py",
   "mimetype": "text/x-python",
   "name": "python",
   "nbconvert_exporter": "python",
   "pygments_lexer": "ipython3",
   "version": "3.10.0"
  },
  "rise": {
   "enable_chalkboard": true,
   "scroll": true
  }
 },
 "nbformat": 4,
 "nbformat_minor": 5
}
